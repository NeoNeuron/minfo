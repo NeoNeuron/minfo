{
 "cells": [
  {
   "cell_type": "markdown",
   "metadata": {},
   "source": [
    "# Adaptive partitioning algorithm for mutual information estimation\n",
    "\n",
    "Python implementation of mutual information estimation, where adaptive partitioning strategy is applied.\n",
    "\n",
    "## Reference\n",
    "- Darbellay, G. A., & Vajda, I. (1999). Estimation of the information by an adaptive partitioning of the observation space. IEEE Transactions on Information Theory, 45(4), 1315-1321."
   ]
  },
  {
   "cell_type": "code",
   "execution_count": 1,
   "metadata": {},
   "outputs": [],
   "source": [
    "import numpy as np\n",
    "from minfo.mi_float import mutual_info as mi_cy\n",
    "from minfo.mi_float import TDMI as TDMI_cy\n",
    "from mutual_info import mutual_info as mi_py\n",
    "\n",
    "def TDMI_py(dat, n):\n",
    "    \"\"\"Time-delay mutual information estimator. (Pure Python Version)\n",
    "    \n",
    "    Parameters:\n",
    "        dat (np.ndarray) : 2D array of time series with 2 column.\n",
    "            each column is a variable, and each row is a sample.\n",
    "        n (int) : number of delays, including zero time-lag case.\n",
    "\n",
    "    Returns:\n",
    "        np.ndarray : 1d array of delayed mutual information series.\n",
    "\n",
    "    \"\"\"\n",
    "    tdmi = np.zeros(n)\n",
    "    N = dat.shape[0]\n",
    "    for i in range(n):\n",
    "        dat_buffer = np.zeros((N-i, 2))\n",
    "        dat_buffer[:,0] = dat[:N-i,0]\n",
    "        dat_buffer[:,1] = dat[i:,1]\n",
    "        tdmi[i] = mi_py(dat_buffer)\n",
    "    return tdmi"
   ]
  },
  {
   "cell_type": "code",
   "execution_count": 2,
   "metadata": {},
   "outputs": [],
   "source": [
    "# generate data\n",
    "np.random.seed(2022)\n",
    "n = 24000\n",
    "dat = np.random.rand(n,2)\n",
    "dat[:,1] += dat[:,0]"
   ]
  },
  {
   "cell_type": "markdown",
   "metadata": {},
   "source": [
    "## Test mutual information estimation with different algorithm and implementations"
   ]
  },
  {
   "cell_type": "code",
   "execution_count": 3,
   "metadata": {},
   "outputs": [
    {
     "name": "stdout",
     "output_type": "stream",
     "text": [
      "[INFO]: Testing mi_adaptive (Python) ...\n",
      "28 ms ± 4.25 ms per loop (mean ± std. dev. of 7 runs, 10 loops each)\n"
     ]
    }
   ],
   "source": [
    "print('[INFO]: Testing mi_adaptive (Python) ...')\n",
    "%timeit mi_py(dat)"
   ]
  },
  {
   "cell_type": "code",
   "execution_count": 4,
   "metadata": {},
   "outputs": [
    {
     "name": "stdout",
     "output_type": "stream",
     "text": [
      "[INFO]: Testing mi_uniform (Numba) ...\n",
      "226 µs ± 14.7 µs per loop (mean ± std. dev. of 7 runs, 1000 loops each)\n"
     ]
    }
   ],
   "source": [
    "# run first to excute JIT compling\n",
    "mi_cy(dat[:,0], dat[:,1], bins=50,)\n",
    "\n",
    "print('[INFO]: Testing mi_uniform (Numba) ...')\n",
    "%timeit mi_cy(dat[:,0], dat[:,1], bins=50,)"
   ]
  },
  {
   "cell_type": "code",
   "execution_count": 5,
   "metadata": {},
   "outputs": [
    {
     "name": "stdout",
     "output_type": "stream",
     "text": [
      "[INFO]: Testing mi_adaptive (Cython) ...\n",
      "9.32 ms ± 237 µs per loop (mean ± std. dev. of 7 runs, 100 loops each)\n"
     ]
    }
   ],
   "source": [
    "print('[INFO]: Testing mi_adaptive (Cython) ...')\n",
    "%timeit mi_cy(dat[:,0], dat[:,1], algorithm='adaptive')\n"
   ]
  },
  {
   "cell_type": "markdown",
   "metadata": {},
   "source": [
    "## Test time-delayed mutual information estimation with different algorithm and implementations"
   ]
  },
  {
   "cell_type": "code",
   "execution_count": 6,
   "metadata": {},
   "outputs": [],
   "source": [
    "n_delay = 100"
   ]
  },
  {
   "cell_type": "code",
   "execution_count": 7,
   "metadata": {},
   "outputs": [
    {
     "name": "stdout",
     "output_type": "stream",
     "text": [
      "[INFO]: Testing tdmi_adaptive (Python) ...\n",
      "593 ms ± 14.7 ms per loop (mean ± std. dev. of 7 runs, 1 loop each)\n"
     ]
    }
   ],
   "source": [
    "print('[INFO]: Testing tdmi_adaptive (Python) ...')\n",
    "%timeit TDMI_py(dat, n_delay)\n"
   ]
  },
  {
   "cell_type": "code",
   "execution_count": 8,
   "metadata": {},
   "outputs": [
    {
     "name": "stdout",
     "output_type": "stream",
     "text": [
      "[INFO]: Testing tdmi_uniform (Numba) ...\n",
      "5.77 ms ± 309 µs per loop (mean ± std. dev. of 7 runs, 100 loops each)\n"
     ]
    }
   ],
   "source": [
    "# run first to excute JIT compling\n",
    "print('[INFO]: Testing tdmi_uniform (Numba) ...')\n",
    "TDMI_cy(dat[:,0], dat[:,1], n_delay, bins=50)\n",
    "%timeit TDMI_cy(dat[:,0], dat[:,1], n_delay, bins=50)\n"
   ]
  },
  {
   "cell_type": "code",
   "execution_count": 9,
   "metadata": {},
   "outputs": [
    {
     "name": "stdout",
     "output_type": "stream",
     "text": [
      "[INFO]: Testing tdmi_adaptive (Cython) ...\n",
      "93.4 ms ± 8.19 ms per loop (mean ± std. dev. of 7 runs, 10 loops each)\n"
     ]
    }
   ],
   "source": [
    "print('[INFO]: Testing tdmi_adaptive (Cython) ...')\n",
    "%timeit TDMI_cy(dat[:,0], dat[:,1], n_delay, algorithm='adaptive')"
   ]
  }
 ],
 "metadata": {
  "kernelspec": {
   "display_name": "Python 3.7.8 ('base')",
   "language": "python",
   "name": "python3"
  },
  "language_info": {
   "codemirror_mode": {
    "name": "ipython",
    "version": 3
   },
   "file_extension": ".py",
   "mimetype": "text/x-python",
   "name": "python",
   "nbconvert_exporter": "python",
   "pygments_lexer": "ipython3",
   "version": "3.7.8"
  },
  "vscode": {
   "interpreter": {
    "hash": "ba4f4068ad4cf795d41e463cb813dd752f0009acf64e3c9bdfa4fbfb960a9e85"
   }
  }
 },
 "nbformat": 4,
 "nbformat_minor": 4
}
